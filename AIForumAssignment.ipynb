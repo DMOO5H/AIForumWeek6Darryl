{
 "cells": [
  {
   "cell_type": "code",
   "execution_count": null,
   "id": "f5663992",
   "metadata": {},
   "outputs": [],
   "source": [
    "# Step 1: Read the dataset from the text file\n",
    "data = []\n",
    "with open('AIdataset.txt', 'r') as file:\n",
    "    lines = file.readlines()[1:]  # Skip the header\n",
    "    for line in lines:\n",
    "        day, discount, delivery, purchase = line.strip().split('\\t')\n",
    "        data.append((day, discount, delivery, purchase))\n",
    "\n",
    "# Step 2: Calculate probabilities\n",
    "total_entries = len(data)\n",
    "total_purchases = sum(1 for _, _, _, p in data if p == \"Yes\")\n",
    "total_not_purchases = total_entries - total_purchases\n",
    "\n",
    "# Calculate P(Purchase) and P(Not purchase)\n",
    "p_purchase = total_purchases / total_entries\n",
    "p_not_purchase = total_not_purchases / total_entries\n",
    "\n",
    "# Calculate conditional probabilities\n",
    "day_discount_delivery_purchase = {}\n",
    "for entry in data:\n",
    "    day, discount, delivery, purchase = entry\n",
    "    if (day, discount, delivery, purchase) not in day_discount_delivery_purchase:\n",
    "        day_discount_delivery_purchase[(day, discount, delivery, purchase)] = 0\n",
    "    day_discount_delivery_purchase[(day, discount, delivery, purchase)] += 1\n",
    "\n",
    "# Step 3: Make the prediction\n",
    "day = \"Weekday\"\n",
    "discount = \"No\"\n",
    "delivery = \"Yes\"\n",
    "\n",
    "# Calculate P(Purchase | Day=Weekday, Discount=No, Delivery=Yes)\n",
    "key = (day, discount, delivery, \"Yes\")\n",
    "p_purchase_given_features = (day_discount_delivery_purchase.get(key, 0) + 1) / (total_purchases + 2)\n",
    "\n",
    "# Calculate P(Not purchase | Day=Weekday, Discount=No, Delivery=Yes)\n",
    "key = (day, discount, delivery, \"No\")\n",
    "p_not_purchase_given_features = (day_discount_delivery_purchase.get(key, 0) + 1) / (total_not_purchases + 2)\n",
    "\n",
    "# Print the probabilities\n",
    "print(\"Probability of Purchase:\", p_purchase_given_features * p_purchase)\n",
    "print(\"Probability of Not purchase:\", p_not_purchase_given_features * p_not_purchase)"
   ]
  }
 ],
 "metadata": {
  "kernelspec": {
   "display_name": "Python 3 (ipykernel)",
   "language": "python",
   "name": "python3"
  },
  "language_info": {
   "codemirror_mode": {
    "name": "ipython",
    "version": 3
   },
   "file_extension": ".py",
   "mimetype": "text/x-python",
   "name": "python",
   "nbconvert_exporter": "python",
   "pygments_lexer": "ipython3",
   "version": "3.9.13"
  }
 },
 "nbformat": 4,
 "nbformat_minor": 5
}
